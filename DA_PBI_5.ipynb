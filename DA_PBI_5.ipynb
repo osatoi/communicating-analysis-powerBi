{
  "nbformat": 4,
  "nbformat_minor": 0,
  "metadata": {
    "colab": {
      "provenance": []
    },
    "kernelspec": {
      "name": "python3",
      "display_name": "Python 3"
    },
    "language_info": {
      "name": "python"
    }
  },
  "cells": [
    {
      "cell_type": "markdown",
      "source": [
        "Your colleague is delighted with the dashboard you provided him the previous week, but he has some remarks about the overall look of the dashboard:\n",
        "- Some of the metrics and dimensions in charts are not clearly labeled\n",
        "- Some chart formatting is a bit confusing and could be worked on\n",
        "- The whole dashboard does not follow your company's branding because you used a dark blue color which does not fit your company’s colors. Choose any other colors of the existing company and adjust the dashboard to suit them. (Or adjust the colors according to your preference)\n",
        "\n",
        "- A Colleague also remembered that one of your exec team members is color blind, and some charts are confusing\n",
        "- Your colleague realized that date filters at the top of the dashboard do not apply to all visualizations. Find a way to overcome this problem.\n",
        "\n",
        "You should make a copy of the final dashboard from the hands-on task to clean it up and make it more interactive and advanced. Feel free to work with anything from formatting to adding completely new graphs and insights. Since this sprint requires more creativity, this graded task is a bit more open and obscure than in other sprints. However, keep in mind that evaluation criteria are also more open to different creative solutions.\n",
        "\n",
        "As an alternative, you can come up with a completely new dashboard if you wish. The only requirement is using the same [AdventureWorks company data](https://console.cloud.google.com/bigquery?authuser=3&project=tc-da-1&ws=!1m4!1m3!3m2!1stc-da-1!2sadwentureworks_db) to construct your dashboard. Once again, remember that we are giving you some freedom in your Graded Task, though we expect you to utilize tools you have learned as well as making sure that you follow the guidelines you have learned in this sprint. Make sure you take into consideration the dashboard structure and ways to make sure the user understands the data you intend to present. For this, you will have to come up with your insights about data and make sure those insights tell a consistent and coherent story.\n",
        "\n",
        "- Write SQL queries to extract needed data. These queries should be well documented, with indentation, and provided as custom queries in a separate file, clearly identifying which datasets in the dashboard they reflect.\n",
        "- Provide your analysis in PowerBI, making sure that you use [AdventureWorks company data](https://console.cloud.google.com/bigquery?authuser=3&project=tc-da-1&ws=!1m4!1m3!3m2!1stc-da-1!2sadwentureworks_db).\n",
        "- You need to present at least one additional insight that reinforces (or replaces the graphs in the original graph). Your audience is interested in business insights, and your role is to identify and tell them a story via visuals.\n",
        "\n",
        "Here are some examples of possible additional KPIs; you can use these or think of your own.\n",
        "  1. Average Profit Per Customer\n",
        "  2. Year-Over-Year Growth Percentage\n",
        "  3. New, Improved Method for Validating the Pareto Approach\n",
        "\n",
        "\n",
        "- Explore the data. See whether there are interesting data points that can give more insights than previously established in the hands-on task.\n",
        "- Provide analytical insights. What are the drawbacks of this analysis and what further analysis could you recommend?\n",
        "\n",
        "*Tip: to make valuable business insights, it’s almost never enough to only look at the data. It is often very beneficial to do some additional research about the industry and the business as well*.\n",
        "\n",
        "<br>\n",
        "\n",
        "## Evaluation criteria for a Graded project submission:\n",
        "\n",
        "- Learner provided a dashboard which is user friendly and interactive enough to pull some more insights by the users themselves\n",
        "- Analytical approach to the problem (6 steps approach). Did the learner use their analysis to provide justified, useful and actionable insights?\n",
        "- SQL queries for additional data are nicely formatted and documented, also there are no logic errors\n",
        "- Data sources connected to the dashboard are well formatted, naming conventions are clear and calculated fields have relevant names\n",
        "- Learner understood various techniques to be used in PowerBI correctly and managed to improve the original dashboard\n",
        "- Analysis, findings, and main points are clearly structured\n",
        "- Learner provided useful insights from their own dashboard and included new or already suggested KPIs\n",
        "- Dashboard coloring has been fixed, adjusted to align with the company's branding or to individual preferences, and issues related to color blindness have been resolved\n",
        "\n",
        "> Note: Do not be too strict while reviewing other learners' work regarding the **Star Schema**, as it is quite complex at the beginning.\n",
        "\n",
        "\n",
        "When performing a project review you may ask the following questions, possible answers are provided as well. However, be more open to different ways of approaching this graded task since students are given a bit more freedom than in other sprints.\n",
        "\n",
        "<br>\n",
        "\n",
        "**Sample questions:**\n",
        "\n",
        "- How, on a very general level, should dashboards be structured? What information should be provided at the top of the dashboard vs information provided at the bottom?\n",
        "- Why is providing preattentive attributes important when constructing dashboards?\n",
        "- Can you think of situations where having a less interactive dashboard is more suitable than having a heavily customizable interactive dashboard?\n",
        "\n",
        "<br>\n",
        "\n",
        "## Submission and additional information\n",
        "- Learn more [here](https://turingcollege.atlassian.net/wiki/spaces/DLG/pages/537395951/Peer+expert+reviews#:~:text=Also%2C%20As%20you,be%20effectively%20communicated) in a 'Passing a review' paragraph, about how the quality of your presentation can impact your success in passing the project.\n",
        "\n",
        "- For a comprehensive guide on project submission, detailed review information, and subsequent steps, please refer to the instructions provided [here](https://docs.google.com/document/d/1RTBkQk3kgm58hfM194OkkQN9a3ETHb1w/edit#heading=h.3znysh7). Additionally, you can watch [this video](https://www.loom.com/share/51d03634ccb64391a33dcefd78448c98?sid=ed1f08d0-aa27-4d1d-b801-dabc8f754a80) for guidance on how to upload your project.\n",
        "\n",
        "- When using projects for your personal portfolio, please adhere to the following [rules and guidelines](https://turingcollege.atlassian.net/wiki/spaces/DLG/pages/1002307695/Portfolio+Items)\n",
        "- **Upload the exported Power BI template to your GitHub repository using the \"Add File\" function.**\n",
        "\n",
        "\n"
      ],
      "metadata": {
        "id": "T-Itn-CekD8u"
      }
    }
  ]
}